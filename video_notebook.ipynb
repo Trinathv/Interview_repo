{
 "cells": [
  {
   "cell_type": "code",
   "execution_count": 1,
   "id": "638d91d1",
   "metadata": {
    "scrolled": true
   },
   "outputs": [],
   "source": [
    "try:\n",
    "    from moviepy.editor import VideoFileClip\n",
    "except:\n",
    "    !pip install -q moviepy"
   ]
  },
  {
   "cell_type": "code",
   "execution_count": 1,
   "id": "68f83066",
   "metadata": {
    "scrolled": true
   },
   "outputs": [
    {
     "name": "stdout",
     "output_type": "stream",
     "text": [
      "0\n",
      "60\n",
      "120\n",
      "180\n"
     ]
    }
   ],
   "source": [
    "# creating the video clips\n",
    "\n",
    "from moviepy.editor import *\n",
    "\n",
    "os.makedirs('video_clips', exist_ok=True)\n",
    "# loading video\n",
    "video = 'test.mp4'\n",
    "clip = VideoFileClip(video)\n",
    "\n",
    "count = 0\n",
    "while 1:\n",
    "    print(count)\n",
    "    # getting only 60 seconds\n",
    "    sub_clip = clip.subclip(count, 60 + count)\n",
    "    # saving the clips\n",
    "    sub_clip.write_videofile(verbose=False, audio=False, logger=None, filename=f\"./video_clips/clip_{count}.mp4\")\n",
    "    count = count + 60\n",
    "    if (60 + count) > clip.duration:\n",
    "        break"
   ]
  },
  {
   "cell_type": "code",
   "execution_count": 2,
   "id": "0d7704cf",
   "metadata": {},
   "outputs": [
    {
     "data": {
      "text/html": [
       "<div>\n",
       "<style scoped>\n",
       "    .dataframe tbody tr th:only-of-type {\n",
       "        vertical-align: middle;\n",
       "    }\n",
       "\n",
       "    .dataframe tbody tr th {\n",
       "        vertical-align: top;\n",
       "    }\n",
       "\n",
       "    .dataframe thead th {\n",
       "        text-align: right;\n",
       "    }\n",
       "</style>\n",
       "<table border=\"1\" class=\"dataframe\">\n",
       "  <thead>\n",
       "    <tr style=\"text-align: right;\">\n",
       "      <th></th>\n",
       "      <th>clip_name</th>\n",
       "      <th>clip_file_extension</th>\n",
       "      <th>clip_duration</th>\n",
       "      <th>clip_location</th>\n",
       "      <th>insert_timestamp</th>\n",
       "    </tr>\n",
       "  </thead>\n",
       "  <tbody>\n",
       "    <tr>\n",
       "      <th>0</th>\n",
       "      <td>clip_0</td>\n",
       "      <td>mp4</td>\n",
       "      <td>60.03</td>\n",
       "      <td>C:\\Users\\M61\\Downloads\\videos\\video_clips\\clip...</td>\n",
       "      <td>2022-08-05 13:05:55.272888</td>\n",
       "    </tr>\n",
       "    <tr>\n",
       "      <th>1</th>\n",
       "      <td>clip_120</td>\n",
       "      <td>mp4</td>\n",
       "      <td>60.03</td>\n",
       "      <td>C:\\Users\\M61\\Downloads\\videos\\video_clips\\clip...</td>\n",
       "      <td>2022-08-05 13:05:55.903852</td>\n",
       "    </tr>\n",
       "    <tr>\n",
       "      <th>2</th>\n",
       "      <td>clip_180</td>\n",
       "      <td>mp4</td>\n",
       "      <td>60.03</td>\n",
       "      <td>C:\\Users\\M61\\Downloads\\videos\\video_clips\\clip...</td>\n",
       "      <td>2022-08-05 13:05:56.453078</td>\n",
       "    </tr>\n",
       "    <tr>\n",
       "      <th>3</th>\n",
       "      <td>clip_60</td>\n",
       "      <td>mp4</td>\n",
       "      <td>60.03</td>\n",
       "      <td>C:\\Users\\M61\\Downloads\\videos\\video_clips\\clip...</td>\n",
       "      <td>2022-08-05 13:05:56.998317</td>\n",
       "    </tr>\n",
       "  </tbody>\n",
       "</table>\n",
       "</div>"
      ],
      "text/plain": [
       "  clip_name clip_file_extension  clip_duration  \\\n",
       "0    clip_0                 mp4          60.03   \n",
       "1  clip_120                 mp4          60.03   \n",
       "2  clip_180                 mp4          60.03   \n",
       "3   clip_60                 mp4          60.03   \n",
       "\n",
       "                                       clip_location  \\\n",
       "0  C:\\Users\\M61\\Downloads\\videos\\video_clips\\clip...   \n",
       "1  C:\\Users\\M61\\Downloads\\videos\\video_clips\\clip...   \n",
       "2  C:\\Users\\M61\\Downloads\\videos\\video_clips\\clip...   \n",
       "3  C:\\Users\\M61\\Downloads\\videos\\video_clips\\clip...   \n",
       "\n",
       "            insert_timestamp  \n",
       "0 2022-08-05 13:05:55.272888  \n",
       "1 2022-08-05 13:05:55.903852  \n",
       "2 2022-08-05 13:05:56.453078  \n",
       "3 2022-08-05 13:05:56.998317  "
      ]
     },
     "execution_count": 2,
     "metadata": {},
     "output_type": "execute_result"
    }
   ],
   "source": [
    "from moviepy.editor import VideoFileClip\n",
    "import os\n",
    "import datetime\n",
    "import pandas as pd\n",
    "\n",
    "d = []\n",
    "video_path = 'video_clips/'\n",
    "for i in os.listdir(video_path):\n",
    "    if i.endswith(('.mp4', '.mov')):\n",
    "        d.append((\n",
    "                  i.split('.')[0], \n",
    "                  i.split('.')[-1], \n",
    "                  VideoFileClip(video_path + i).duration, \n",
    "                  os.path.abspath(video_path + i),\n",
    "                  datetime.datetime.now()\n",
    "                 ))\n",
    "\n",
    "# create dataframe\n",
    "columns=['clip_name', 'clip_file_extension', 'clip_duration', 'clip_location', 'insert_timestamp']\n",
    "video_data = pd.DataFrame(d, columns=columns[0:5])\n",
    "video_data"
   ]
  },
  {
   "cell_type": "code",
   "execution_count": 3,
   "id": "4233cdc2",
   "metadata": {},
   "outputs": [],
   "source": [
    "os.makedirs('./report', exist_ok=True)\n",
    "video_data.to_csv('./report/generated_video_files.csv')"
   ]
  },
  {
   "cell_type": "code",
   "execution_count": 4,
   "id": "15103eaa",
   "metadata": {},
   "outputs": [
    {
     "data": {
      "text/plain": [
       "<sqlite3.Cursor at 0x26a48685dc0>"
      ]
     },
     "execution_count": 4,
     "metadata": {},
     "output_type": "execute_result"
    }
   ],
   "source": [
    "import pandas as pd\n",
    "\n",
    "## connect to database\n",
    "import sqlite3\n",
    "\n",
    "conn = sqlite3.connect(\"pythonsqlite.db\")\n",
    "\n",
    "##push the dataframe to sql \n",
    "video_data.to_sql(\"video_data\", conn, if_exists=\"replace\")\n",
    "\n",
    "##create the table\n",
    "conn.execute(\n",
    "    \"\"\"\n",
    "    create table IF NOT EXISTS video_table as \n",
    "    select * from video_data\n",
    "    \"\"\")"
   ]
  },
  {
   "cell_type": "code",
   "execution_count": 5,
   "id": "2d6217f8",
   "metadata": {
    "scrolled": true
   },
   "outputs": [
    {
     "data": {
      "text/plain": [
       "[(0,\n",
       "  'clip_0',\n",
       "  'mp4',\n",
       "  60.03,\n",
       "  'C:\\\\Users\\\\M61\\\\Downloads\\\\videos\\\\video_clips\\\\clip_0.mp4',\n",
       "  '2022-08-05 13:05:55.272888'),\n",
       " (1,\n",
       "  'clip_120',\n",
       "  'mp4',\n",
       "  60.03,\n",
       "  'C:\\\\Users\\\\M61\\\\Downloads\\\\videos\\\\video_clips\\\\clip_120.mp4',\n",
       "  '2022-08-05 13:05:55.903852'),\n",
       " (2,\n",
       "  'clip_180',\n",
       "  'mp4',\n",
       "  60.03,\n",
       "  'C:\\\\Users\\\\M61\\\\Downloads\\\\videos\\\\video_clips\\\\clip_180.mp4',\n",
       "  '2022-08-05 13:05:56.453078'),\n",
       " (3,\n",
       "  'clip_60',\n",
       "  'mp4',\n",
       "  60.03,\n",
       "  'C:\\\\Users\\\\M61\\\\Downloads\\\\videos\\\\video_clips\\\\clip_60.mp4',\n",
       "  '2022-08-05 13:05:56.998317')]"
      ]
     },
     "execution_count": 5,
     "metadata": {},
     "output_type": "execute_result"
    }
   ],
   "source": [
    "cur = conn.cursor()\n",
    "cur.execute('select * from video_data;')\n",
    "cur.fetchall()"
   ]
  },
  {
   "cell_type": "code",
   "execution_count": 6,
   "id": "ec30a1e8",
   "metadata": {},
   "outputs": [
    {
     "name": "stdout",
     "output_type": "stream",
     "text": [
      "(0, 'clip_0', 'mp4', 60.03, 'C:\\\\Users\\\\M61\\\\Downloads\\\\videos\\\\video_clips\\\\clip_0.mp4', '2022-08-05 13:05:55.272888')\n",
      "(1, 'clip_120', 'mp4', 60.03, 'C:\\\\Users\\\\M61\\\\Downloads\\\\videos\\\\video_clips\\\\clip_120.mp4', '2022-08-05 13:05:55.903852')\n",
      "(2, 'clip_180', 'mp4', 60.03, 'C:\\\\Users\\\\M61\\\\Downloads\\\\videos\\\\video_clips\\\\clip_180.mp4', '2022-08-05 13:05:56.453078')\n",
      "(3, 'clip_60', 'mp4', 60.03, 'C:\\\\Users\\\\M61\\\\Downloads\\\\videos\\\\video_clips\\\\clip_60.mp4', '2022-08-05 13:05:56.998317')\n"
     ]
    }
   ],
   "source": [
    "for i in cur.execute('select * from video_data;'):\n",
    "    print(i)"
   ]
  },
  {
   "cell_type": "code",
   "execution_count": 7,
   "id": "f027379d",
   "metadata": {},
   "outputs": [],
   "source": [
    "conn.close()"
   ]
  },
  {
   "cell_type": "code",
   "execution_count": null,
   "id": "96c0b7c1",
   "metadata": {},
   "outputs": [],
   "source": []
  }
 ],
 "metadata": {
  "kernelspec": {
   "display_name": "Python 3 (ipykernel)",
   "language": "python",
   "name": "python3"
  },
  "language_info": {
   "codemirror_mode": {
    "name": "ipython",
    "version": 3
   },
   "file_extension": ".py",
   "mimetype": "text/x-python",
   "name": "python",
   "nbconvert_exporter": "python",
   "pygments_lexer": "ipython3",
   "version": "3.7.11"
  }
 },
 "nbformat": 4,
 "nbformat_minor": 5
}
